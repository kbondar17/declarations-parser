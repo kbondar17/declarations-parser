{
 "cells": [
  {
   "cell_type": "code",
   "execution_count": 1,
   "metadata": {},
   "outputs": [],
   "source": [
    "\n",
    "%matplotlib inline\n",
    "import requests\n",
    "import re\n",
    "import time\n",
    "import os\n",
    "import urllib.request\n",
    "from typing import Union\n",
    "import csv\n",
    "import statistics\n",
    "\n",
    "import typing\n",
    "import io\n",
    "import numpy as np\n",
    "from docx import Document\n",
    "import matplotlib\n",
    "import numpy as np\n",
    "import matplotlib.pyplot as plt\n",
    "\n",
    "import pandas as pd\n",
    "%config Completer.use_jedi = False\n",
    "from pathlib import Path\n",
    "# import tqdm.notebook.tqdm as tqdm\n",
    "from tqdm import tqdm_notebook\n",
    "%matplotlib widget\n",
    "import matplotlib.pyplot as plt\n",
    "import logging\n",
    "logging.basicConfig(format=u'%(filename)+13s [ LINE:%(lineno)-4s] %(levelname)-8s %(message)s',\n",
    "                    level=logging.DEBUG)\n",
    "\n",
    "logger = logging.getLogger(__name__)\n",
    "\n"
   ]
  },
  {
   "cell_type": "code",
   "execution_count": 9,
   "metadata": {},
   "outputs": [
    {
     "data": {
      "text/plain": [
       "'\\nСВЕДЕНИЯ\\nо среднемесячной заработной плате руководителя, его заместителей и главного бухгалтера \\nказенного учреждения Омской области «Центр поддержки развития отрасли культуры»\\nСВЕДЕНИЯ\\nо среднемесячной заработной плате руководителя, его заместителей и главного бухгалтера \\nказенного учреждения Омской области «Центр материально-технического обеспечения «Культура»\\n\\t\\nСсылки на размещенные сведения о среднемесячной заработной плате руководителей, их заместителей и главных бухгалтеров государственных учреждений культуры Омской области, функции и полномочия учредителя которых осуществляет Министерство культуры Омской области за 2020 год'"
      ]
     },
     "execution_count": 9,
     "metadata": {},
     "output_type": "execute_result"
    }
   ],
   "source": [
    "file = r\"D:\\PROGR\\LEARN_PYTHON\\Declarator\\declarations-parser\\data_ids\\docx\\179590_2020_Rukovoditeli,_zamestiteli_i_glavnye_bukhgaltery_podvedomstvennykh_uchrezhdenii.docx\"\n",
    "\n",
    "\n",
    "doc = Document(file)\n",
    "\n",
    "all_text = ''\n",
    "for p in doc.paragraphs:\n",
    "    text = p.text\n",
    "    if text:\n",
    "\n",
    "        all_text+=f'\\n{text}'\n",
    "\n",
    "\n",
    "all_text\n",
    "\n",
    "\n",
    "\n"
   ]
  }
 ],
 "metadata": {
  "interpreter": {
   "hash": "137dc9a7529e050f0d3404627e217fd4120b6229f927507e6c7e6283ad4b3698"
  },
  "kernelspec": {
   "display_name": "Python 3.9.8 64-bit",
   "language": "python",
   "name": "python3"
  },
  "language_info": {
   "codemirror_mode": {
    "name": "ipython",
    "version": 3
   },
   "file_extension": ".py",
   "mimetype": "text/x-python",
   "name": "python",
   "nbconvert_exporter": "python",
   "pygments_lexer": "ipython3",
   "version": "3.9.8"
  },
  "orig_nbformat": 4
 },
 "nbformat": 4,
 "nbformat_minor": 2
}
