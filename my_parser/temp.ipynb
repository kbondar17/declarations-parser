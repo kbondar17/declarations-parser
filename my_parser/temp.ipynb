{
 "cells": [
  {
   "cell_type": "code",
   "execution_count": 2,
   "metadata": {},
   "outputs": [
    {
     "name": "stdout",
     "output_type": "stream",
     "text": [
      "convert_pdf_to_df ----  [          0                                 1                        2  \\\n",
      "0  №  \\nп/п          Фамилия, имя, \\nотчество                Должность   \n",
      "1         1                                 2                        3   \n",
      "2         1        Шадрина Елена \\nГенадьевна                 Директор   \n",
      "3         2       Калиниченко Ольга \\nЮрьевна  Заместитель \\nдиректора   \n",
      "4         3      Комарова Анна \\nМитрофановна      Главный \\nбухгалтер   \n",
      "5         4  Коваленко Эльзара \\nВладимировна      Главный \\nбухгалтер   \n",
      "\n",
      "                                                   3  \n",
      "0  Рассчитанная за календарный год \\nсреднемесячн...  \n",
      "1                                                  4  \n",
      "2                                          198267,64  \n",
      "3                                          238838,92  \n",
      "4                                          129337,15  \n",
      "5                                          126253,68  ]\n"
     ]
    },
    {
     "data": {
      "text/plain": [
       "[          0                                 1                        2  \\\n",
       " 0  №  \\nп/п          Фамилия, имя, \\nотчество                Должность   \n",
       " 1         1                                 2                        3   \n",
       " 2         1        Шадрина Елена \\nГенадьевна                 Директор   \n",
       " 3         2       Калиниченко Ольга \\nЮрьевна  Заместитель \\nдиректора   \n",
       " 4         3      Комарова Анна \\nМитрофановна      Главный \\nбухгалтер   \n",
       " 5         4  Коваленко Эльзара \\nВладимировна      Главный \\nбухгалтер   \n",
       " \n",
       "                                                    3  \n",
       " 0  Рассчитанная за календарный год \\nсреднемесячн...  \n",
       " 1                                                  4  \n",
       " 2                                          198267,64  \n",
       " 3                                          238838,92  \n",
       " 4                                          129337,15  \n",
       " 5                                          126253,68  ]"
      ]
     },
     "execution_count": 2,
     "metadata": {},
     "output_type": "execute_result"
    }
   ],
   "source": [
    "import pandas as pd\n",
    "import camelot\n",
    "\n",
    "\n",
    "def convert_pdf_to_df(filename: str) -> list[pd.DataFrame]:\n",
    "    tables = camelot.read_pdf(str(filename), line_tol=2, joint_tol=10, line_scale=40, copy_text=[\n",
    "                            'v'], pages='1-end')  # , flavor='stream' row_tol=10\n",
    "    tables = [e.df for e in tables]\n",
    "    print('convert_pdf_to_df ---- ', tables)\n",
    "    return tables\n",
    "\n",
    "\n",
    "f = r\"D:\\PROGR\\LEARN_PYTHON\\Declarator\\declarations-parser\\data_ids\\pdf\\converted\\для_которых_нужен_перевод_в_ворд\\88766_2019_Rukovoditeli,_zamestiteli_i_glavnye_bukhgaltery_podvedomstvennykh_uchrezhdenii.pdf\"\n",
    "convert_pdf_to_df(f)"
   ]
  }
 ],
 "metadata": {
  "interpreter": {
   "hash": "137dc9a7529e050f0d3404627e217fd4120b6229f927507e6c7e6283ad4b3698"
  },
  "kernelspec": {
   "display_name": "Python 3.9.8 64-bit",
   "language": "python",
   "name": "python3"
  },
  "language_info": {
   "codemirror_mode": {
    "name": "ipython",
    "version": 3
   },
   "file_extension": ".py",
   "mimetype": "text/x-python",
   "name": "python",
   "nbconvert_exporter": "python",
   "pygments_lexer": "ipython3",
   "version": "3.9.8"
  },
  "orig_nbformat": 4
 },
 "nbformat": 4,
 "nbformat_minor": 2
}
