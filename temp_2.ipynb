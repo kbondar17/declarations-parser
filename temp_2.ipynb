{
 "cells": [
  {
   "cell_type": "code",
   "execution_count": 1,
   "metadata": {},
   "outputs": [],
   "source": [
    "import requests\n",
    "import re\n",
    "import time\n",
    "import os\n",
    "import urllib.request\n",
    "from typing import Union\n",
    "import csv\n",
    "\n",
    "import io\n",
    "import numpy as np\n",
    "from docx import Document\n",
    "\n",
    "%matplotlib inline\n",
    "\n",
    "import matplotlib\n",
    "import numpy as np\n",
    "import matplotlib.pyplot as plt\n",
    "\n",
    "import pandas as pd\n",
    "%config Completer.use_jedi = False\n",
    "from pathlib import Path\n",
    "# import tqdm.notebook.tqdm as tqdm\n",
    "from tqdm import tqdm_notebook\n",
    "import camelot\n"
   ]
  },
  {
   "cell_type": "code",
   "execution_count": 2,
   "metadata": {},
   "outputs": [
    {
     "data": {
      "text/plain": [
       "[                                                   0  \\\n",
       " 0                                       Отчетный год   \n",
       " 1  Номер организации тю распоряжению \\nПравительс...   \n",
       " 2                   Полное наименование организации:   \n",
       " 3  Среднемесячная заработная плата работников (бе...   \n",
       " \n",
       "                                                    1             2  \n",
       " 0                                               2020                \n",
       " 1                                                611                \n",
       " 2  федеральное государственное бюджетное образова...                \n",
       " 3                                                     37 203,7 \\n1  ,\n",
       "          0                                                  1  \\\n",
       " 0  № \\nп/п                             Наименование должности   \n",
       " 1        1                                             Ректор   \n",
       " 2        2  Проректор по экономике \\nи стратегическому \\nр...   \n",
       " 3        3  Проректор по научной и \\nмеждународной \\nдеяте...   \n",
       " 4        4                      Проректор по учебной \\nработе   \n",
       " 5        s  Проректор по \\nадминистративно-\\nхозяйственной...   \n",
       " 6        6          Проректор по \\nнепрерывному \\nобразованию   \n",
       " 7        7                                  Главный бухгалтер   \n",
       " \n",
       "                               2                                          3  \n",
       " 0        Фамилия, имя, отчество  Среднемесячная \\nзаработная плата, \\nруб.  \n",
       " 1      Марков Андрей Михайлович                                  200 214,0  \n",
       " 2  Жидких Александр Анатольевич                                 143  919,9  \n",
       " 3    Свистула Андрей Евгениевич                                 131  044,7  \n",
       " 4  Сучкова Лариса Иннокентьевна                                  145 845,9  \n",
       " 5  Табанюхов Василий Михайлович                                  129 465,2  \n",
       " 6    Хомутов Станислав Олегович                                 155  373,4  \n",
       " 7     Шутенко Татьяна Сергеевна                                145  860, 1  ]"
      ]
     },
     "execution_count": 2,
     "metadata": {},
     "output_type": "execute_result"
    }
   ],
   "source": [
    "\n",
    "\n",
    "def convert_pdf_to_df(filename) -> list[pd.DataFrame]:\n",
    "    tables = camelot.read_pdf(file, line_tol=2, joint_tol=10, line_scale=40, copy_text=['v'], pages='1-end') # , flavor='stream' row_tol=10\n",
    "    tables = [e.df for e in tables]\n",
    "    return tables\n",
    "\n",
    "\n",
    "base = 'data_ids/pdf/converted/'\n",
    "file = 'data_ids/pdf/converted/189273_2020_Rektor,_prorektory,_glavnyi_bukhgalter.pdf'\n",
    "\n",
    "file = 'data_ids/pdf/converted/189273_2020_Rektor,_prorektory,_glavnyi_bukhgalter.pdf'\n",
    "\n",
    "\n",
    "convert_pdf_to_df(file)\n"
   ]
  }
 ],
 "metadata": {
  "interpreter": {
   "hash": "137dc9a7529e050f0d3404627e217fd4120b6229f927507e6c7e6283ad4b3698"
  },
  "kernelspec": {
   "display_name": "Python 3 (ipykernel)",
   "language": "python",
   "name": "python3"
  },
  "language_info": {
   "codemirror_mode": {
    "name": "ipython",
    "version": 3
   },
   "file_extension": ".py",
   "mimetype": "text/x-python",
   "name": "python",
   "nbconvert_exporter": "python",
   "pygments_lexer": "ipython3",
   "version": "3.9.8"
  }
 },
 "nbformat": 4,
 "nbformat_minor": 4
}
