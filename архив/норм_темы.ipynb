{
 "cells": [
  {
   "cell_type": "code",
   "execution_count": null,
   "metadata": {},
   "outputs": [],
   "source": [
    "import pandas as pd\n",
    "\n",
    "\n",
    "\n",
    "df = pd.DataFrame()"
   ]
  },
  {
   "cell_type": "code",
   "execution_count": null,
   "metadata": {},
   "outputs": [],
   "source": [
    "# применить условие ко всем ячейкам\n",
    "df['temp'] = df[(df == 'директор').any(axis=1)]\n",
    "\n",
    "# дропнуть ряд по условию. (сначала получаем список индексов)\n",
    "df.drop(df[df['\\nНаименование должности']=='директор'].index)\n",
    "\n"
   ]
  }
 ],
 "metadata": {
  "language_info": {
   "name": "python"
  },
  "orig_nbformat": 4
 },
 "nbformat": 4,
 "nbformat_minor": 2
}
